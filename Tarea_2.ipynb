{
  "nbformat": 4,
  "nbformat_minor": 0,
  "metadata": {
    "colab": {
      "provenance": [],
      "authorship_tag": "ABX9TyPD4R+OYsH6dgC6ILIv4Hrt",
      "include_colab_link": true
    },
    "kernelspec": {
      "name": "python3",
      "display_name": "Python 3"
    },
    "language_info": {
      "name": "python"
    }
  },
  "cells": [
    {
      "cell_type": "markdown",
      "metadata": {
        "id": "view-in-github",
        "colab_type": "text"
      },
      "source": [
        "<a href=\"https://colab.research.google.com/github/Sonia1895/AA/blob/main/Tarea_2.ipynb\" target=\"_parent\"><img src=\"https://colab.research.google.com/assets/colab-badge.svg\" alt=\"Open In Colab\"/></a>"
      ]
    },
    {
      "cell_type": "markdown",
      "source": [
        "## Tarea 2\n",
        "**Bases de datos seleccionada:**\n",
        "\n",
        "** [Encuensta Nacional de Inclusión Financiera (ENIF)](https://www.inegi.org.mx/datosabiertos/)**\n",
        "\n",
        "\n"
      ],
      "metadata": {
        "id": "giJQYuJQ-3BP"
      }
    },
    {
      "cell_type": "code",
      "execution_count": null,
      "metadata": {
        "id": "KJer34xy-qSX"
      },
      "outputs": [],
      "source": [
        "\n",
        "\n",
        "import pandas as pd\n",
        "\n",
        "#Cargar información de base de datos ENIF\n",
        "df_enif = pd.read_csv"
      ]
    }
  ]
}