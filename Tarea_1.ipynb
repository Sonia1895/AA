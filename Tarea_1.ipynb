{
  "nbformat": 4,
  "nbformat_minor": 0,
  "metadata": {
    "colab": {
      "provenance": [],
      "authorship_tag": "ABX9TyMAstPMB018OyuaX2jHshtE",
      "include_colab_link": true
    },
    "kernelspec": {
      "name": "python3",
      "display_name": "Python 3"
    },
    "language_info": {
      "name": "python"
    }
  },
  "cells": [
    {
      "cell_type": "markdown",
      "metadata": {
        "id": "view-in-github",
        "colab_type": "text"
      },
      "source": [
        "<a href=\"https://colab.research.google.com/github/Sonia1895/AA/blob/main/Tarea_1.ipynb\" target=\"_parent\"><img src=\"https://colab.research.google.com/assets/colab-badge.svg\" alt=\"Open In Colab\"/></a>"
      ]
    },
    {
      "cell_type": "code",
      "execution_count": null,
      "metadata": {
        "colab": {
          "base_uri": "https://localhost:8080/"
        },
        "id": "PEyE4ZKJ_l27",
        "outputId": "d74e288f-52b6-47c4-c20c-ba79b32a882d"
      },
      "outputs": [
        {
          "output_type": "stream",
          "name": "stdout",
          "text": [
            "Hola mundo, este es el repositorio para la materia de aprendizaje automático. \n"
          ]
        }
      ],
      "source": [
        "print (\"Hola mundo, este es el repositorio para la materia de aprendizaje automático. \")"
      ]
    },
    {
      "cell_type": "code",
      "source": [
        "print (\"###\")"
      ],
      "metadata": {
        "id": "8oofLAEa-CV2",
        "outputId": "24e8ba10-4625-4a44-f6f6-fee9f780a5b5",
        "colab": {
          "base_uri": "https://localhost:8080/"
        }
      },
      "execution_count": 1,
      "outputs": [
        {
          "output_type": "stream",
          "name": "stdout",
          "text": [
            "###\n"
          ]
        }
      ]
    }
  ]
}